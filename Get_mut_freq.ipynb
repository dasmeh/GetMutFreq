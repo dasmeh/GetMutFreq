{
 "cells": [
  {
   "cell_type": "code",
   "execution_count": null,
   "metadata": {},
   "outputs": [],
   "source": [
    "# Info: Quite often, we need to know the freqiencies of mutations rising to high frequencies\n",
    "# in an experiment. Given that we have a fasta file that is built from all variants, this code\n",
    "# calculates the freqiencies of single point mutations and outputs them as R objects "
   ]
  },
  {
   "cell_type": "code",
   "execution_count": 1,
   "metadata": {
    "scrolled": true
   },
   "outputs": [
    {
     "name": "stderr",
     "output_type": "stream",
     "text": [
      "Loading required package: BiocGenerics\n",
      "\n",
      "\n",
      "Attaching package: ‘BiocGenerics’\n",
      "\n",
      "\n",
      "The following objects are masked from ‘package:stats’:\n",
      "\n",
      "    IQR, mad, sd, var, xtabs\n",
      "\n",
      "\n",
      "The following objects are masked from ‘package:base’:\n",
      "\n",
      "    anyDuplicated, append, as.data.frame, basename, cbind, colnames,\n",
      "    dirname, do.call, duplicated, eval, evalq, Filter, Find, get, grep,\n",
      "    grepl, intersect, is.unsorted, lapply, Map, mapply, match, mget,\n",
      "    order, paste, pmax, pmax.int, pmin, pmin.int, Position, rank,\n",
      "    rbind, Reduce, rownames, sapply, setdiff, sort, table, tapply,\n",
      "    union, unique, unsplit, which.max, which.min\n",
      "\n",
      "\n",
      "Loading required package: S4Vectors\n",
      "\n",
      "Loading required package: stats4\n",
      "\n",
      "\n",
      "Attaching package: ‘S4Vectors’\n",
      "\n",
      "\n",
      "The following objects are masked from ‘package:base’:\n",
      "\n",
      "    expand.grid, I, unname\n",
      "\n",
      "\n",
      "Loading required package: IRanges\n",
      "\n",
      "Loading required package: XVector\n",
      "\n",
      "Loading required package: GenomeInfoDb\n",
      "\n",
      "\n",
      "Attaching package: ‘Biostrings’\n",
      "\n",
      "\n",
      "The following object is masked from ‘package:base’:\n",
      "\n",
      "    strsplit\n",
      "\n",
      "\n",
      "\n",
      "Attaching package: ‘seqinr’\n",
      "\n",
      "\n",
      "The following object is masked from ‘package:Biostrings’:\n",
      "\n",
      "    translate\n",
      "\n",
      "\n",
      "\n",
      "Attaching package: ‘reshape’\n",
      "\n",
      "\n",
      "The following objects are masked from ‘package:S4Vectors’:\n",
      "\n",
      "    expand, rename\n",
      "\n",
      "\n"
     ]
    }
   ],
   "source": [
    "# Load the relevant libraries\n",
    "library(\"Biostrings\")\n",
    "library(\"seqinr\")\n",
    "library(\"stringr\")\n",
    "library(\"ggplot2\")\n",
    "library(\"reshape\")"
   ]
  },
  {
   "cell_type": "code",
   "execution_count": 2,
   "metadata": {},
   "outputs": [],
   "source": [
    "## All necessary and imporant functions to load\n",
    "### This function calculated the frequency of mutants in a population\n",
    "\n",
    "read_freq <- function (mut_data, all_mutants){\n",
    "\n",
    "mutants_freq=matrix(0, nrow=length(mut_data), ncol=length(all_mutants))\n",
    "\n",
    "for (i in 1:length(mut_data)){    \n",
    "    index_row=match(mut_data[[i]], all_mutants)        \n",
    "    mutants_freq[i,index_row]=1\n",
    "}\n",
    "return(colSums(mutants_freq)/length(mut_data))\n",
    "}\n"
   ]
  },
  {
   "cell_type": "markdown",
   "metadata": {},
   "source": [
    "## Serial version of the code"
   ]
  },
  {
   "cell_type": "code",
   "execution_count": null,
   "metadata": {},
   "outputs": [],
   "source": [
    "start_time <- Sys.time()\n",
    "\n",
    "# This function checkes a sequence of interest against a WT sequenec and \n",
    "# and prints all the single point mutations that are different between the two\n",
    "\n",
    "\n",
    "diff_seq <- function(num){\n",
    "    \n",
    "    ## Output_list\n",
    "    mutant_list=list()\n",
    "    \n",
    "    ## Load libraries\n",
    "    library(\"Biostrings\")\n",
    "    library(\"seqinr\")\n",
    "    \n",
    "    # Load data\n",
    "    mutants_seq=readAAStringSet(\"All_fasta_files/INC_NAR_1_1_AA.fasta\")\n",
    "    WT_seq=readAAStringSet(\"All_fasta_files/TetR_wt_AA.fasta\")\n",
    "\n",
    "   \n",
    "    pair=pairwiseAlignment(WT_seq, mutants_seq[num], type=\"local-global\" )\n",
    "    pair_sum=summary(pair)\n",
    "    sum_table <- pair_sum@mismatchSummary$subject\n",
    "    \n",
    "    mutant_list=paste(sum_table$Pattern,\"_\",sum_table$SubjectPosition, \"_\", sum_table$Subject,sep=\"\")\n",
    "\n",
    "    \n",
    "    return(mutant_list)\n",
    "       \n",
    "    }"
   ]
  },
  {
   "cell_type": "markdown",
   "metadata": {},
   "source": [
    "## Parallel version of the code"
   ]
  },
  {
   "cell_type": "code",
   "execution_count": null,
   "metadata": {},
   "outputs": [],
   "source": [
    "library(\"parallel\")"
   ]
  },
  {
   "cell_type": "code",
   "execution_count": null,
   "metadata": {},
   "outputs": [],
   "source": [
    "limit=length(mutants_seq)\n",
    "\n",
    "start_time <- Sys.time()\n",
    "\n",
    "# create cluster object\n",
    "clust <- makeCluster(24)\n",
    "\n",
    "\n",
    "# test each number in sample_numbers for primality\n",
    "result_pl <- parSapply(cl = clust, 1:limit, FUN = diff_seq)\n",
    "\n",
    "# close cluster object\n",
    "stopCluster(clust)\n",
    "\n",
    "end_time <- Sys.time()\n",
    "\n",
    "end_time - start_time"
   ]
  },
  {
   "cell_type": "code",
   "execution_count": null,
   "metadata": {},
   "outputs": [],
   "source": [
    "unique(unlist(result_pl))"
   ]
  },
  {
   "cell_type": "markdown",
   "metadata": {},
   "source": [
    "## Counting mutations in all populations (parallel processing)"
   ]
  },
  {
   "cell_type": "code",
   "execution_count": null,
   "metadata": {},
   "outputs": [],
   "source": [
    "All_fasta_files <- list.files(\"./All_fasta_files/\", pattern = \"_AA.fasta\")"
   ]
  },
  {
   "cell_type": "code",
   "execution_count": null,
   "metadata": {},
   "outputs": [],
   "source": [
    "WT_seq=readAAStringSet(\"All_fasta_files/TetR_wt_AA.fasta\")\n",
    "\n",
    "\n",
    "## Define the population level function\n",
    "for (i in 1:length(All_fasta_files)){\n",
    "    \n",
    " pop_file=paste(\"All_fasta_files/\", All_fasta_files[i], sep=\"\")  \n",
    " mutants_seq= readAAStringSet(filepath = pop_file)\n",
    " \n",
    " ## Write a space variable to read from\n",
    " \n",
    " saveRDS(object = mutants_seq, file = \"mutants_seq.RData\")\n",
    "\n",
    " \n",
    " diff_seq <- function(num){\n",
    "    \n",
    "    \n",
    "    ## Load libraries\n",
    "    library(\"Biostrings\")\n",
    "    library(\"seqinr\")\n",
    "    \n",
    "    WT_seq=readAAStringSet(\"All_fasta_files/TetR_wt_AA.fasta\")\n",
    "    mutants_seq=readRDS(\"mutants_seq.RData\")\n",
    "   \n",
    "    pair=pairwiseAlignment(WT_seq, mutants_seq[num], type=\"local-global\" )\n",
    "    pair_sum=summary(pair)\n",
    "    sum_table <- pair_sum@mismatchSummary$subject\n",
    "    \n",
    "    mutant_list=paste(sum_table$Pattern,\"_\",sum_table$SubjectPosition, \"_\", sum_table$Subject,sep=\"\")\n",
    "\n",
    "    \n",
    "    return(mutant_list)\n",
    "       \n",
    "    }\n",
    "\n",
    "## Run the loop\n",
    "limit=length(mutants_seq)\n",
    "\n",
    "\n",
    "# create cluster object\n",
    "clust <- makeCluster(24)\n",
    "\n",
    "    \n",
    "# test each number in sample_numbers for primality\n",
    "result_pl <- parSapply(cl = clust, 1:limit, FUN = diff_seq)\n",
    "\n",
    "# close cluster object\n",
    "stopCluster(clust)\n",
    "\n",
    "saveRDS(result_pl, file=paste(\"./Mutational_freqs_lists/\", All_fasta_files[i]))\n",
    "    \n",
    "}"
   ]
  },
  {
   "cell_type": "markdown",
   "metadata": {},
   "source": [
    "### Getting the frequency data"
   ]
  },
  {
   "cell_type": "code",
   "execution_count": null,
   "metadata": {},
   "outputs": [],
   "source": [
    "files=list.files(\"./Mutational_freqs_lists/\")\n",
    "mutant_list=vector()\n",
    "\n",
    "for (i in 1:length(files)){\n",
    "    \n",
    "    \n",
    "    mut_data=readRDS(paste(\"./Mutational_freqs_lists/\", files[i], sep=\"\"))\n",
    "    \n",
    "    mutant_list=c(mutant_list, unique(unlist(mut_data)))\n",
    "    \n",
    "    \n",
    "    }\n",
    "\n",
    "all_mutants=unique(mutant_list)"
   ]
  },
  {
   "cell_type": "code",
   "execution_count": null,
   "metadata": {
    "scrolled": true
   },
   "outputs": [],
   "source": [
    "mutants_frequencies=matrix(NA, nrow =length(files) , ncol =length(all_mutants) )\n",
    "colnames(mutants_frequencies)=all_mutants\n",
    "\n",
    "for (i in 1:length(files)){\n",
    "\n",
    "    ### All_mutants in the population\n",
    "    mut_data=readRDS(paste(\"./Mutational_freqs_lists/\", files[i], sep=\"\"))\n",
    "    \n",
    "    ### Frequency\n",
    "    mutant_table=table(unlist(mut_data))    \n",
    "    mutant_table_sorted=sort(mutant_table, decreasing = TRUE)\n",
    "    \n",
    "    ## Invoke the following command if you'd like to exclude WT from the analysis\n",
    "    #mutant_table_sorted=mutant_table_sorted[-which(names(mutant_table_sorted)==\"__\")]\n",
    "    \n",
    "    mutant_freq=mutant_table_sorted/sum(mutant_table_sorted)\n",
    "\n",
    "      \n",
    "    index_row=match(names(mutant_freq), all_mutants)\n",
    "    mutants_frequencies[i,index_row]=mutant_freq\n",
    "    \n",
    "    message(paste(\"protein=\", as.character(i), \"|from\", as.character(length(files))))\n",
    "    \n",
    "    }"
   ]
  }
 ],
 "metadata": {
  "kernelspec": {
   "display_name": "R",
   "language": "R",
   "name": "ir"
  },
  "language_info": {
   "codemirror_mode": "r",
   "file_extension": ".r",
   "mimetype": "text/x-r-source",
   "name": "R",
   "pygments_lexer": "r",
   "version": "4.1.2"
  }
 },
 "nbformat": 4,
 "nbformat_minor": 4
}
